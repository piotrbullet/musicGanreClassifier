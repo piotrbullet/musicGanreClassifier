{
 "cells": [
  {
   "cell_type": "code",
   "execution_count": 1,
   "id": "1b107ab0",
   "metadata": {},
   "outputs": [],
   "source": [
    "import os\n",
    "import pydub\n",
    "import matplotlib.pyplot as plt\n",
    "import shutil\n",
    "from tempfile import mktemp\n",
    "from opensoundscape.audio import Audio\n",
    "from opensoundscape.spectrogram import Spectrogram\n",
    "from IPython.display import clear_output\n",
    "import random"
   ]
  },
  {
   "cell_type": "markdown",
   "id": "7a480f4e",
   "metadata": {},
   "source": [
    "playlist download"
   ]
  },
  {
   "cell_type": "code",
   "execution_count": 2,
   "id": "459de6d7",
   "metadata": {},
   "outputs": [],
   "source": [
    "pl_link = \"https://open.spotify.com/playlist/37i9dQZF1DXaXB8fQg7xif?si=9898256e6779497c\"\n",
    "\n",
    "playlist_dl_dir = \"D:\\\\uni\\\\deepLearning\\\\dataset_2\"\n",
    "dl_string = f\"spotify_dl -o {playlist_dl_dir}\"\n",
    "os.system(dl_string+f\" -l {pl_link}\")"
   ]
  },
  {
   "cell_type": "markdown",
   "id": "37cd8599",
   "metadata": {},
   "source": [
    "renaming files"
   ]
  },
  {
   "cell_type": "code",
   "execution_count": null,
   "id": "a7a3a14a",
   "metadata": {},
   "outputs": [],
   "source": [
    "def rename_files(folder):\n",
    "    if not os.path.exists(os.path.join(folder, \"renamed\")):\n",
    "        os.mkdir(os.path.join(folder, \"renamed\"))\n",
    "    files = [f for f in os.listdir(folder)]\n",
    "    for count, name in enumerate(files):\n",
    "        if name.endswith(\".txt\") or os.path.isdir(os.path.join(folder, name)):\n",
    "            continue\n",
    "        new_name = f\"audio_{count}.mp3\"\n",
    "        shutil.copy(os.path.join(folder, name), os.path.join(folder, \"renamed\", new_name))"
   ]
  },
  {
   "cell_type": "markdown",
   "id": "6728a642",
   "metadata": {},
   "source": [
    "files shortening"
   ]
  },
  {
   "cell_type": "code",
   "execution_count": 4,
   "id": "b5ead956",
   "metadata": {},
   "outputs": [],
   "source": [
    "def shorten_audio(folder, audio_len=0.5):\n",
    "    renamed_folder = os.path.join(folder, \"renamed\")\n",
    "    renamed_files = os.listdir(renamed_folder)\n",
    "    shortened_folder = os.path.join(folder, \"shortened\")\n",
    "    if not os.path.exists(shortened_folder):\n",
    "        os.mkdir(shortened_folder)\n",
    "    for count, file in enumerate(renamed_files):\n",
    "        filePath = os.path.join(renamed_folder, file)\n",
    "        saveFilepath = os.path.join(shortened_folder, str(count))\n",
    "        if os.path.exists(saveFilepath+\"_0.mp3\") or not os.path.isfile(filePath):\n",
    "            continue\n",
    "        sound = pydub.AudioSegment.from_mp3(filePath)\n",
    "        for n in range(3):\n",
    "            save_path = f\"{saveFilepath}_{str(n)}.mp3\"\n",
    "            if os.path.exists(save_path):\n",
    "                continue\n",
    "            extract = sound[0+(0.5*60*1000*n):audio_len*60*1000+(audio_len*60*1000*n)]\n",
    "            extract.export(save_path, format=\"mp3\")\n",
    "        clear_output(wait=True)\n",
    "        print(f\"{count}/{len(renamed_files)}\")\n",
    "    print(f\"shortening {folder} done!\")"
   ]
  },
  {
   "cell_type": "markdown",
   "id": "984e38ce",
   "metadata": {},
   "source": [
    "Spectrogram generation"
   ]
  },
  {
   "cell_type": "code",
   "execution_count": 5,
   "id": "07eeb8f8",
   "metadata": {},
   "outputs": [],
   "source": [
    "def generate_spectrograms(folder, spectrogram_shape=(200, 500)):\n",
    "    shortened_folder = os.path.join(folder, \"shortened\")\n",
    "    spectrogram_folder = os.path.join(folder, \"spectrogram\")\n",
    "    if not os.path.exists(spectrogram_folder):\n",
    "        os.mkdir(spectrogram_folder)\n",
    "    files = os.listdir(shortened_folder)\n",
    "    for count, file in enumerate(files):\n",
    "        audio_path = os.path.join(shortened_folder, file)\n",
    "        im_save_path = os.path.join(spectrogram_folder, f\"{count+1}.png\")\n",
    "        audio = Audio.from_file(audio_path)\n",
    "        spectrogram = Spectrogram.from_audio(audio)\n",
    "        image = spectrogram.to_image(spectrogram_shape)\n",
    "        image.save(im_save_path)\n",
    "        clear_output(wait=True)\n",
    "        print(f\"{count+1}/{len(files)}\")\n",
    "    print(f\"all spectrograms in {folder} created\")"
   ]
  },
  {
   "cell_type": "markdown",
   "id": "17edc3a0",
   "metadata": {},
   "source": [
    "\n",
    "Dataset creation"
   ]
  },
  {
   "cell_type": "code",
   "execution_count": null,
   "id": "baef5be1",
   "metadata": {},
   "outputs": [],
   "source": [
    "main_folder = \"D:\\\\uni\\\\deepLearning\\\\dataset_2\"\n",
    "ganre_names = [f for f in os.listdir(main_folder) if not os.path.isfile(os.path.join(main_folder, f))]\n",
    "train_val_split = (8/10)\n",
    "\n",
    "for g in ganre_names:\n",
    "    ganre_folder = os.path.join(main_folder, g)\n",
    "    if g == \"classical\" or g == \"dance\":\n",
    "        continue\n",
    "\n",
    "    shorten_audio(ganre_folder)\n",
    "    generate_spectrograms(ganre_folder)\n",
    "\n",
    "    spectrogram_folder = os.path.join(ganre_folder, \"spectrogram\")\n",
    "    spectrogram_files = [f for f in os.listdir(spectrogram_folder) if os.path.isfile(os.path.join(spectrogram_folder, f))]\n",
    "\n",
    "    train_dir = os.path.join(spectrogram_folder, \"train\")\n",
    "    test_dir = os.path.join(spectrogram_folder, \"test\")\n",
    "    if not os.path.exists(train_dir) or not os.path.exists(test_dir):\n",
    "        os.makedirs(train_dir)\n",
    "        os.makedirs(test_dir)\n",
    "    \n",
    "    random.shuffle(spectrogram_files)\n",
    "    train_files = spectrogram_files[0:int(len(spectrogram_files)*train_val_split)]\n",
    "    for f in train_files:\n",
    "        shutil.move(os.path.join(spectrogram_folder, f), os.path.join(train_dir, f))\n",
    "        spectrogram_files.remove(f)\n",
    "    for f in spectrogram_files:\n",
    "        shutil.move(os.path.join(spectrogram_folder, f), os.path.join(test_dir, f))\n",
    "    print(f\"Splitting done in {g} folder\")\n",
    "    "
   ]
  }
 ],
 "metadata": {
  "interpreter": {
   "hash": "e3d7a99c6659919767506aac26bb427a8dc5420ef1b96f920d6f28b986bcd2be"
  },
  "kernelspec": {
   "display_name": "Python 3.8.10 64-bit",
   "language": "python",
   "name": "python3"
  },
  "language_info": {
   "codemirror_mode": {
    "name": "ipython",
    "version": 3
   },
   "file_extension": ".py",
   "mimetype": "text/x-python",
   "name": "python",
   "nbconvert_exporter": "python",
   "pygments_lexer": "ipython3",
   "version": "3.8.10"
  }
 },
 "nbformat": 4,
 "nbformat_minor": 5
}
