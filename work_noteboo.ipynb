{
 "cells": [
  {
   "cell_type": "code",
   "execution_count": 1,
   "id": "1b107ab0",
   "metadata": {},
   "outputs": [],
   "source": [
    "from configparser import ConfigParser\n",
    "import os\n",
    "import pydub\n",
    "import matplotlib.pyplot as plt\n",
    "import shutil\n",
    "from scipy.io import wavfile\n",
    "from tempfile import mktemp\n",
    "from opensoundscape.audio import Audio\n",
    "from opensoundscape.spectrogram import Spectrogram\n",
    "from IPython.display import clear_output\n",
    "import random\n",
    "from main import download_playlist"
   ]
  },
  {
   "cell_type": "code",
   "execution_count": 4,
   "id": "459de6d7",
   "metadata": {},
   "outputs": [
    {
     "data": {
      "text/plain": [
       "0"
      ]
     },
     "execution_count": 4,
     "metadata": {},
     "output_type": "execute_result"
    }
   ],
   "source": [
    "pl_link = \"https://open.spotify.com/playlist/37i9dQZF1DXaXB8fQg7xif?si=9898256e6779497c\"\n",
    "\n",
    "config = ConfigParser()\n",
    "config.read('config.ini')\n",
    "playlist_dl_dir = config['MAIN']['playlist_dl_dir']\n",
    "dl_string = f\"spotify_dl -o {playlist_dl_dir}\"\n",
    "os.system(dl_string+f\" -l {pl_link}\")"
   ]
  },
  {
   "cell_type": "code",
   "execution_count": 3,
   "id": "46f4c9fe",
   "metadata": {},
   "outputs": [
    {
     "name": "stdout",
     "output_type": "stream",
     "text": [
      "D:\\uni\\deepLearning\\musicDataset\\jazz\n"
     ]
    }
   ],
   "source": [
    "config = ConfigParser()\n",
    "config.read('config.ini')\n",
    "playlist_dl_dir = config['MAIN']['playlist_dl_dir']\n",
    "jazz_playlist_dir = playlist_dl_dir + \"\\\\jazz\"\n",
    "classical_pl_dir = playlist_dl_dir + \"\\\\classical\"\n",
    "pop_pl_dir = playlist_dl_dir + \"\\\\pop\"\n",
    "rock_pl_dir = playlist_dl_dir + \"\\\\rock\"\n",
    "dance_pl_dir = playlist_dl_dir + \"\\\\dance\"\n",
    "print(jazz_playlist_dir)"
   ]
  },
  {
   "cell_type": "code",
   "execution_count": 4,
   "id": "7eedd81e",
   "metadata": {},
   "outputs": [],
   "source": [
    "folder = classical_pl_dir"
   ]
  },
  {
   "cell_type": "markdown",
   "id": "37cd8599",
   "metadata": {},
   "source": [
    "renaming files"
   ]
  },
  {
   "cell_type": "code",
   "execution_count": 6,
   "id": "a7a3a14a",
   "metadata": {},
   "outputs": [],
   "source": [
    "def rename_files(folder):\n",
    "    if not os.path.exists(os.path.join(folder, \"renamed\")):\n",
    "        os.mkdir(os.path.join(folder, \"renamed\"))\n",
    "    files = [f for f in os.listdir(folder)]\n",
    "    for count, name in enumerate(files):\n",
    "        if name.endswith(\".txt\") or os.path.isdir(os.path.join(folder, name)):\n",
    "            continue\n",
    "        new_name = f\"audio_{count}.mp3\"\n",
    "        shutil.copy(os.path.join(folder, name), os.path.join(folder, \"renamed\", new_name))"
   ]
  },
  {
   "cell_type": "markdown",
   "id": "6728a642",
   "metadata": {},
   "source": [
    "files shortening"
   ]
  },
  {
   "cell_type": "code",
   "execution_count": 13,
   "id": "b5ead956",
   "metadata": {},
   "outputs": [],
   "source": [
    "def shorten_audio(folder, audio_len=0.5):\n",
    "    renamed_folder = os.path.join(folder, \"renamed\")\n",
    "    renamed_files = os.listdir(renamed_folder)\n",
    "    shortened_folder = os.path.join(folder, \"shortened\")\n",
    "    if not os.path.exists(shortened_folder):\n",
    "        os.mkdir(shortened_folder)\n",
    "    for count, file in enumerate(renamed_files):\n",
    "        filePath = os.path.join(renamed_folder, file).replace(\".mp3\", \"\")\n",
    "        saveFilepath = os.path.join(shortened_folder, file)\n",
    "        if file in shortened_folder or not os.path.isfile(filePath):\n",
    "            continue\n",
    "        sound = pydub.AudioSegment.from_mp3(filePath)\n",
    "        for n in range(3):\n",
    "            extract = sound[0+(0.5*60*1000*n):audio_len*60*1000+(0.5*60*1000*n)]\n",
    "            extract.export(saveFilepath+\"_\"+str(n)+\".mp3\", format=\"mp3\")\n",
    "        clear_output(wait=True)\n",
    "        print(f\"{count}/{len(renamed_files)}\")\n",
    "    print(f\"shortening {folder} done!\")"
   ]
  },
  {
   "cell_type": "markdown",
   "id": "984e38ce",
   "metadata": {},
   "source": [
    "Spectrogram generation"
   ]
  },
  {
   "cell_type": "code",
   "execution_count": 8,
   "id": "07eeb8f8",
   "metadata": {},
   "outputs": [],
   "source": [
    "def generate_spectrograms(folder, spectrogram_shape=(200, 500)):\n",
    "    shortened_folder = os.path.join(folder, \"shortened\")\n",
    "    spectrogram_folder = os.path.join(folder, \"spectrogram\")\n",
    "    if not os.path.exists(spectrogram_folder):\n",
    "        os.mkdir(spectrogram_folder)\n",
    "    files = os.listdir(shortened_folder)\n",
    "    for count, file in enumerate(files):\n",
    "        audio_path = os.path.join(shortened_folder, file)\n",
    "        im_save_path = os.path.join(spectrogram_folder, f\"{count+1}.png\")\n",
    "        audio = Audio.from_file(audio_path)\n",
    "        spectrogram = Spectrogram.from_audio(audio)\n",
    "        image = spectrogram.to_image(spectrogram_shape)\n",
    "        image.save(im_save_path)\n",
    "        clear_output(wait=True)\n",
    "        print(f\"{count+1}/{len(files)}\")\n",
    "    print(f\"all spectrograms in {folder} created\")"
   ]
  },
  {
   "cell_type": "markdown",
   "id": "17edc3a0",
   "metadata": {},
   "source": [
    "\n",
    "Dataset creation"
   ]
  },
  {
   "cell_type": "code",
   "execution_count": 14,
   "id": "baef5be1",
   "metadata": {},
   "outputs": [
    {
     "name": "stdout",
     "output_type": "stream",
     "text": [
      "30/59\n"
     ]
    },
    {
     "ename": "KeyboardInterrupt",
     "evalue": "",
     "output_type": "error",
     "traceback": [
      "\u001b[1;31m---------------------------------------------------------------------------\u001b[0m",
      "\u001b[1;31mKeyboardInterrupt\u001b[0m                         Traceback (most recent call last)",
      "\u001b[1;32mc:\\STUFF\\8th_semester\\deep_learning\\musicGanreClassifier\\work_noteboo.ipynb Cell 12'\u001b[0m in \u001b[0;36m<cell line: 5>\u001b[1;34m()\u001b[0m\n\u001b[0;32m      <a href='vscode-notebook-cell:/c%3A/STUFF/8th_semester/deep_learning/musicGanreClassifier/work_noteboo.ipynb#ch0000011?line=5'>6</a>\u001b[0m ganre_folder \u001b[39m=\u001b[39m os\u001b[39m.\u001b[39mpath\u001b[39m.\u001b[39mjoin(main_folder, g)\n\u001b[0;32m      <a href='vscode-notebook-cell:/c%3A/STUFF/8th_semester/deep_learning/musicGanreClassifier/work_noteboo.ipynb#ch0000011?line=7'>8</a>\u001b[0m \u001b[39m# rename_files(ganre_folder)\u001b[39;00m\n\u001b[1;32m----> <a href='vscode-notebook-cell:/c%3A/STUFF/8th_semester/deep_learning/musicGanreClassifier/work_noteboo.ipynb#ch0000011?line=8'>9</a>\u001b[0m shorten_audio(ganre_folder)\n\u001b[0;32m     <a href='vscode-notebook-cell:/c%3A/STUFF/8th_semester/deep_learning/musicGanreClassifier/work_noteboo.ipynb#ch0000011?line=9'>10</a>\u001b[0m generate_spectrograms(ganre_folder)\n\u001b[0;32m     <a href='vscode-notebook-cell:/c%3A/STUFF/8th_semester/deep_learning/musicGanreClassifier/work_noteboo.ipynb#ch0000011?line=11'>12</a>\u001b[0m spectrogram_folder \u001b[39m=\u001b[39m os\u001b[39m.\u001b[39mpath\u001b[39m.\u001b[39mjoin(ganre_folder, \u001b[39m\"\u001b[39m\u001b[39mspectrogram\u001b[39m\u001b[39m\"\u001b[39m)\n",
      "\u001b[1;32mc:\\STUFF\\8th_semester\\deep_learning\\musicGanreClassifier\\work_noteboo.ipynb Cell 8'\u001b[0m in \u001b[0;36mshorten_audio\u001b[1;34m(folder, audio_len)\u001b[0m\n\u001b[0;32m     <a href='vscode-notebook-cell:/c%3A/STUFF/8th_semester/deep_learning/musicGanreClassifier/work_noteboo.ipynb#ch0000007?line=9'>10</a>\u001b[0m \u001b[39mif\u001b[39;00m file \u001b[39min\u001b[39;00m shortened_folder \u001b[39mor\u001b[39;00m \u001b[39mnot\u001b[39;00m os\u001b[39m.\u001b[39mpath\u001b[39m.\u001b[39misfile(filePath):\n\u001b[0;32m     <a href='vscode-notebook-cell:/c%3A/STUFF/8th_semester/deep_learning/musicGanreClassifier/work_noteboo.ipynb#ch0000007?line=10'>11</a>\u001b[0m     \u001b[39mcontinue\u001b[39;00m\n\u001b[1;32m---> <a href='vscode-notebook-cell:/c%3A/STUFF/8th_semester/deep_learning/musicGanreClassifier/work_noteboo.ipynb#ch0000007?line=11'>12</a>\u001b[0m sound \u001b[39m=\u001b[39m pydub\u001b[39m.\u001b[39;49mAudioSegment\u001b[39m.\u001b[39;49mfrom_mp3(filePath)\n\u001b[0;32m     <a href='vscode-notebook-cell:/c%3A/STUFF/8th_semester/deep_learning/musicGanreClassifier/work_noteboo.ipynb#ch0000007?line=12'>13</a>\u001b[0m \u001b[39mfor\u001b[39;00m n \u001b[39min\u001b[39;00m \u001b[39mrange\u001b[39m(\u001b[39m3\u001b[39m):\n\u001b[0;32m     <a href='vscode-notebook-cell:/c%3A/STUFF/8th_semester/deep_learning/musicGanreClassifier/work_noteboo.ipynb#ch0000007?line=13'>14</a>\u001b[0m     extract \u001b[39m=\u001b[39m sound[\u001b[39m0\u001b[39m\u001b[39m+\u001b[39m(\u001b[39m0.5\u001b[39m\u001b[39m*\u001b[39m\u001b[39m60\u001b[39m\u001b[39m*\u001b[39m\u001b[39m1000\u001b[39m\u001b[39m*\u001b[39mn):audio_len\u001b[39m*\u001b[39m\u001b[39m60\u001b[39m\u001b[39m*\u001b[39m\u001b[39m1000\u001b[39m\u001b[39m+\u001b[39m(\u001b[39m0.5\u001b[39m\u001b[39m*\u001b[39m\u001b[39m60\u001b[39m\u001b[39m*\u001b[39m\u001b[39m1000\u001b[39m\u001b[39m*\u001b[39mn)]\n",
      "File \u001b[1;32mc:\\python3810\\lib\\site-packages\\pydub\\audio_segment.py:796\u001b[0m, in \u001b[0;36mAudioSegment.from_mp3\u001b[1;34m(cls, file, parameters)\u001b[0m\n\u001b[0;32m    <a href='file:///c%3A/python3810/lib/site-packages/pydub/audio_segment.py?line=793'>794</a>\u001b[0m \u001b[39m@classmethod\u001b[39m\n\u001b[0;32m    <a href='file:///c%3A/python3810/lib/site-packages/pydub/audio_segment.py?line=794'>795</a>\u001b[0m \u001b[39mdef\u001b[39;00m \u001b[39mfrom_mp3\u001b[39m(\u001b[39mcls\u001b[39m, file, parameters\u001b[39m=\u001b[39m\u001b[39mNone\u001b[39;00m):\n\u001b[1;32m--> <a href='file:///c%3A/python3810/lib/site-packages/pydub/audio_segment.py?line=795'>796</a>\u001b[0m     \u001b[39mreturn\u001b[39;00m \u001b[39mcls\u001b[39;49m\u001b[39m.\u001b[39;49mfrom_file(file, \u001b[39m'\u001b[39;49m\u001b[39mmp3\u001b[39;49m\u001b[39m'\u001b[39;49m, parameters\u001b[39m=\u001b[39;49mparameters)\n",
      "File \u001b[1;32mc:\\python3810\\lib\\site-packages\\pydub\\audio_segment.py:768\u001b[0m, in \u001b[0;36mAudioSegment.from_file\u001b[1;34m(cls, file, format, codec, parameters, start_second, duration, **kwargs)\u001b[0m\n\u001b[0;32m    <a href='file:///c%3A/python3810/lib/site-packages/pydub/audio_segment.py?line=763'>764</a>\u001b[0m log_conversion(conversion_command)\n\u001b[0;32m    <a href='file:///c%3A/python3810/lib/site-packages/pydub/audio_segment.py?line=765'>766</a>\u001b[0m p \u001b[39m=\u001b[39m subprocess\u001b[39m.\u001b[39mPopen(conversion_command, stdin\u001b[39m=\u001b[39mstdin_parameter,\n\u001b[0;32m    <a href='file:///c%3A/python3810/lib/site-packages/pydub/audio_segment.py?line=766'>767</a>\u001b[0m                      stdout\u001b[39m=\u001b[39msubprocess\u001b[39m.\u001b[39mPIPE, stderr\u001b[39m=\u001b[39msubprocess\u001b[39m.\u001b[39mPIPE)\n\u001b[1;32m--> <a href='file:///c%3A/python3810/lib/site-packages/pydub/audio_segment.py?line=767'>768</a>\u001b[0m p_out, p_err \u001b[39m=\u001b[39m p\u001b[39m.\u001b[39;49mcommunicate(\u001b[39minput\u001b[39;49m\u001b[39m=\u001b[39;49mstdin_data)\n\u001b[0;32m    <a href='file:///c%3A/python3810/lib/site-packages/pydub/audio_segment.py?line=769'>770</a>\u001b[0m \u001b[39mif\u001b[39;00m p\u001b[39m.\u001b[39mreturncode \u001b[39m!=\u001b[39m \u001b[39m0\u001b[39m \u001b[39mor\u001b[39;00m \u001b[39mlen\u001b[39m(p_out) \u001b[39m==\u001b[39m \u001b[39m0\u001b[39m:\n\u001b[0;32m    <a href='file:///c%3A/python3810/lib/site-packages/pydub/audio_segment.py?line=770'>771</a>\u001b[0m     \u001b[39mif\u001b[39;00m close_file:\n",
      "File \u001b[1;32mc:\\python3810\\lib\\subprocess.py:1028\u001b[0m, in \u001b[0;36mPopen.communicate\u001b[1;34m(self, input, timeout)\u001b[0m\n\u001b[0;32m   <a href='file:///c%3A/python3810/lib/subprocess.py?line=1024'>1025</a>\u001b[0m     endtime \u001b[39m=\u001b[39m \u001b[39mNone\u001b[39;00m\n\u001b[0;32m   <a href='file:///c%3A/python3810/lib/subprocess.py?line=1026'>1027</a>\u001b[0m \u001b[39mtry\u001b[39;00m:\n\u001b[1;32m-> <a href='file:///c%3A/python3810/lib/subprocess.py?line=1027'>1028</a>\u001b[0m     stdout, stderr \u001b[39m=\u001b[39m \u001b[39mself\u001b[39;49m\u001b[39m.\u001b[39;49m_communicate(\u001b[39minput\u001b[39;49m, endtime, timeout)\n\u001b[0;32m   <a href='file:///c%3A/python3810/lib/subprocess.py?line=1028'>1029</a>\u001b[0m \u001b[39mexcept\u001b[39;00m \u001b[39mKeyboardInterrupt\u001b[39;00m:\n\u001b[0;32m   <a href='file:///c%3A/python3810/lib/subprocess.py?line=1029'>1030</a>\u001b[0m     \u001b[39m# https://bugs.python.org/issue25942\u001b[39;00m\n\u001b[0;32m   <a href='file:///c%3A/python3810/lib/subprocess.py?line=1030'>1031</a>\u001b[0m     \u001b[39m# See the detailed comment in .wait().\u001b[39;00m\n\u001b[0;32m   <a href='file:///c%3A/python3810/lib/subprocess.py?line=1031'>1032</a>\u001b[0m     \u001b[39mif\u001b[39;00m timeout \u001b[39mis\u001b[39;00m \u001b[39mnot\u001b[39;00m \u001b[39mNone\u001b[39;00m:\n",
      "File \u001b[1;32mc:\\python3810\\lib\\subprocess.py:1399\u001b[0m, in \u001b[0;36mPopen._communicate\u001b[1;34m(self, input, endtime, orig_timeout)\u001b[0m\n\u001b[0;32m   <a href='file:///c%3A/python3810/lib/subprocess.py?line=1394'>1395</a>\u001b[0m \u001b[39m# Wait for the reader threads, or time out.  If we time out, the\u001b[39;00m\n\u001b[0;32m   <a href='file:///c%3A/python3810/lib/subprocess.py?line=1395'>1396</a>\u001b[0m \u001b[39m# threads remain reading and the fds left open in case the user\u001b[39;00m\n\u001b[0;32m   <a href='file:///c%3A/python3810/lib/subprocess.py?line=1396'>1397</a>\u001b[0m \u001b[39m# calls communicate again.\u001b[39;00m\n\u001b[0;32m   <a href='file:///c%3A/python3810/lib/subprocess.py?line=1397'>1398</a>\u001b[0m \u001b[39mif\u001b[39;00m \u001b[39mself\u001b[39m\u001b[39m.\u001b[39mstdout \u001b[39mis\u001b[39;00m \u001b[39mnot\u001b[39;00m \u001b[39mNone\u001b[39;00m:\n\u001b[1;32m-> <a href='file:///c%3A/python3810/lib/subprocess.py?line=1398'>1399</a>\u001b[0m     \u001b[39mself\u001b[39;49m\u001b[39m.\u001b[39;49mstdout_thread\u001b[39m.\u001b[39;49mjoin(\u001b[39mself\u001b[39;49m\u001b[39m.\u001b[39;49m_remaining_time(endtime))\n\u001b[0;32m   <a href='file:///c%3A/python3810/lib/subprocess.py?line=1399'>1400</a>\u001b[0m     \u001b[39mif\u001b[39;00m \u001b[39mself\u001b[39m\u001b[39m.\u001b[39mstdout_thread\u001b[39m.\u001b[39mis_alive():\n\u001b[0;32m   <a href='file:///c%3A/python3810/lib/subprocess.py?line=1400'>1401</a>\u001b[0m         \u001b[39mraise\u001b[39;00m TimeoutExpired(\u001b[39mself\u001b[39m\u001b[39m.\u001b[39margs, orig_timeout)\n",
      "File \u001b[1;32mc:\\python3810\\lib\\threading.py:1011\u001b[0m, in \u001b[0;36mThread.join\u001b[1;34m(self, timeout)\u001b[0m\n\u001b[0;32m   <a href='file:///c%3A/python3810/lib/threading.py?line=1007'>1008</a>\u001b[0m     \u001b[39mraise\u001b[39;00m \u001b[39mRuntimeError\u001b[39;00m(\u001b[39m\"\u001b[39m\u001b[39mcannot join current thread\u001b[39m\u001b[39m\"\u001b[39m)\n\u001b[0;32m   <a href='file:///c%3A/python3810/lib/threading.py?line=1009'>1010</a>\u001b[0m \u001b[39mif\u001b[39;00m timeout \u001b[39mis\u001b[39;00m \u001b[39mNone\u001b[39;00m:\n\u001b[1;32m-> <a href='file:///c%3A/python3810/lib/threading.py?line=1010'>1011</a>\u001b[0m     \u001b[39mself\u001b[39;49m\u001b[39m.\u001b[39;49m_wait_for_tstate_lock()\n\u001b[0;32m   <a href='file:///c%3A/python3810/lib/threading.py?line=1011'>1012</a>\u001b[0m \u001b[39melse\u001b[39;00m:\n\u001b[0;32m   <a href='file:///c%3A/python3810/lib/threading.py?line=1012'>1013</a>\u001b[0m     \u001b[39m# the behavior of a negative timeout isn't documented, but\u001b[39;00m\n\u001b[0;32m   <a href='file:///c%3A/python3810/lib/threading.py?line=1013'>1014</a>\u001b[0m     \u001b[39m# historically .join(timeout=x) for x<0 has acted as if timeout=0\u001b[39;00m\n\u001b[0;32m   <a href='file:///c%3A/python3810/lib/threading.py?line=1014'>1015</a>\u001b[0m     \u001b[39mself\u001b[39m\u001b[39m.\u001b[39m_wait_for_tstate_lock(timeout\u001b[39m=\u001b[39m\u001b[39mmax\u001b[39m(timeout, \u001b[39m0\u001b[39m))\n",
      "File \u001b[1;32mc:\\python3810\\lib\\threading.py:1027\u001b[0m, in \u001b[0;36mThread._wait_for_tstate_lock\u001b[1;34m(self, block, timeout)\u001b[0m\n\u001b[0;32m   <a href='file:///c%3A/python3810/lib/threading.py?line=1024'>1025</a>\u001b[0m \u001b[39mif\u001b[39;00m lock \u001b[39mis\u001b[39;00m \u001b[39mNone\u001b[39;00m:  \u001b[39m# already determined that the C code is done\u001b[39;00m\n\u001b[0;32m   <a href='file:///c%3A/python3810/lib/threading.py?line=1025'>1026</a>\u001b[0m     \u001b[39massert\u001b[39;00m \u001b[39mself\u001b[39m\u001b[39m.\u001b[39m_is_stopped\n\u001b[1;32m-> <a href='file:///c%3A/python3810/lib/threading.py?line=1026'>1027</a>\u001b[0m \u001b[39melif\u001b[39;00m lock\u001b[39m.\u001b[39;49macquire(block, timeout):\n\u001b[0;32m   <a href='file:///c%3A/python3810/lib/threading.py?line=1027'>1028</a>\u001b[0m     lock\u001b[39m.\u001b[39mrelease()\n\u001b[0;32m   <a href='file:///c%3A/python3810/lib/threading.py?line=1028'>1029</a>\u001b[0m     \u001b[39mself\u001b[39m\u001b[39m.\u001b[39m_stop()\n",
      "\u001b[1;31mKeyboardInterrupt\u001b[0m: "
     ]
    }
   ],
   "source": [
    "main_folder = \"D:\\\\uni\\\\deepLearning\\\\musicDataset2\"\n",
    "ganre_names = [f for f in os.listdir(main_folder) if not os.path.isfile(os.path.join(main_folder, f))]\n",
    "train_val_split = (8/10)\n",
    "\n",
    "for g in ganre_names:\n",
    "    ganre_folder = os.path.join(main_folder, g)\n",
    "\n",
    "    # rename_files(ganre_folder)\n",
    "    shorten_audio(ganre_folder)\n",
    "    generate_spectrograms(ganre_folder)\n",
    "\n",
    "    spectrogram_folder = os.path.join(ganre_folder, \"spectrogram\")\n",
    "    spectrogram_files = [f for f in os.listdir(spectrogram_folder) if os.path.isfile(os.path.join(spectrogram_folder, f))]\n",
    "\n",
    "    train_dir = os.path.join(spectrogram_folder, \"train\")\n",
    "    test_dir = os.path.join(spectrogram_folder, \"test\")\n",
    "    if not os.path.exists(train_dir) or not os.path.exists(test_dir):\n",
    "        os.makedirs(train_dir)\n",
    "        os.makedirs(test_dir)\n",
    "    \n",
    "    random.shuffle(spectrogram_files)\n",
    "    train_files = spectrogram_files[0:int(len(spectrogram_files)*train_val_split)]\n",
    "    for f in train_files:\n",
    "        shutil.move(os.path.join(spectrogram_folder, f), os.path.join(train_dir, f))\n",
    "        spectrogram_files.remove(f)\n",
    "    for f in spectrogram_files:\n",
    "        shutil.move(os.path.join(spectrogram_folder, f), os.path.join(test_dir, f))\n",
    "    print(f\"Splitting done in {g} folder\")\n",
    "    "
   ]
  },
  {
   "cell_type": "code",
   "execution_count": null,
   "id": "e1af37eb",
   "metadata": {},
   "outputs": [],
   "source": [
    "import tensorflow\n",
    "from tensorflow import keras\n",
    "from tensorflow.keras.layers import Dense, Conv1D, MaxPool1D, Activation, Flatten\n",
    "from keras.callbacks import ModelCheckpoint, EarlyStopping\n",
    "import numpy as np\n",
    "import pandas as pd\n",
    "from sklearn.model_selection import train_test_split\n",
    "from sklearn.preprocessing import MinMaxScaler\n",
    "import pickle\n",
    "\n",
    "compile_model = True\n",
    "save_scalars = False\n",
    "load_older_model = False\n",
    "\n",
    "learning_rate = 0.0001\n",
    "first_neurons = 128\n",
    "second_neurons = 64\n",
    "third_neurons = 0\n",
    "fourth_neurons = 0\n",
    "\n",
    "models_no = f\"{first_neurons}_{second_neurons}\"\n",
    "if third_neurons != 0:\n",
    "    models_no += f\"_{third_neurons}\"\n",
    "if fourth_neurons != 0:\n",
    "    models_no += f\"_{fourth_neurons}\"\n",
    "model_path = f\"models_{models_no}\""
   ]
  },
  {
   "cell_type": "code",
   "execution_count": 13,
   "id": "7d9882f2",
   "metadata": {},
   "outputs": [
    {
     "name": "stdout",
     "output_type": "stream",
     "text": [
      "(200, 500, 3)\n",
      "(200, 500, 3)\n",
      "(200, 500, 3)\n"
     ]
    }
   ],
   "source": [
    "from keras_preprocessing.image import load_img, img_to_array, array_to_img\n",
    "from keras.preprocessing.image_dataset import image_dataset_from_directory\n",
    "\n",
    "genre_folder = config['MAIN']['playlist_dl_dir']\n",
    "genre_list = [g for g in os.listdir(genre_folder) if os.path.isdir(os.path.join(genre_folder, g))]\n",
    "no_genres = len(genre_list)\n",
    "\n",
    "dataset_dir = \"D:\\\\uni\\\\deepLearning\\\\kerasDataset\"\n",
    "class_names = {\"classical\", \"pop\", \"rock\"}\n",
    "\n",
    "dataset = image_dataset_from_directory(dataset_dir, class_names=class_names, color_mode=\"grayscale\")\n",
    "\n",
    "for count, g in enumerate(genre_list):\n",
    "    train_dir = os.path.join(genre_folder, g, 'spectrogram', 'train')\n",
    "    test_dir = os.path.join(genre_folder, g, 'spectrogram', 'test')\n",
    "    train_spectrogram_paths = [os.path.join(train_dir, s) for s in os.listdir(train_dir) if s.endswith('.png')]\n",
    "    test_spectrogram_paths = [os.path.join(test_dir, s) for s in os.listdir(test_dir) if s.endswith('.png')]\n",
    "    for f in train_spectrogram_paths:\n",
    "        img = load_img(f)\n",
    "        img_array = img_to_array(img)\n",
    "        print(img_array.shape)\n",
    "        break\n",
    "    "
   ]
  }
 ],
 "metadata": {
  "interpreter": {
   "hash": "e3d7a99c6659919767506aac26bb427a8dc5420ef1b96f920d6f28b986bcd2be"
  },
  "kernelspec": {
   "display_name": "Python 3.8.10 64-bit",
   "language": "python",
   "name": "python3"
  },
  "language_info": {
   "codemirror_mode": {
    "name": "ipython",
    "version": 3
   },
   "file_extension": ".py",
   "mimetype": "text/x-python",
   "name": "python",
   "nbconvert_exporter": "python",
   "pygments_lexer": "ipython3",
   "version": "3.8.10"
  }
 },
 "nbformat": 4,
 "nbformat_minor": 5
}
